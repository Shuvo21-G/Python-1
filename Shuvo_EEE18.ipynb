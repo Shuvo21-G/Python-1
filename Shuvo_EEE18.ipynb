{
 "cells": [
  {
   "cell_type": "code",
   "execution_count": null,
   "metadata": {},
   "outputs": [],
   "source": [
    "Flow Control :\n",
    "    \n",
    "The statement which control execution flow at runtime are\n",
    "called flow control\n",
    "● Sequential\n",
    "● Conditional Statement"
   ]
  },
  {
   "cell_type": "code",
   "execution_count": null,
   "metadata": {},
   "outputs": [],
   "source": [
    "List of flow control :\n",
    "● Sequential\n",
    "● Conditional Statement\n",
    "○ If\n",
    "○ If else\n",
    "○ If elif else\n",
    "○ If elif\n",
    "● Iterative statement\n",
    "○ For\n",
    "○ while\n",
    "● Transfer statement\n",
    "○ Break\n",
    "○ Continue\n",
    "Switch,case goto ===> X\n",
    "Do-while ===> X"
   ]
  },
  {
   "cell_type": "code",
   "execution_count": null,
   "metadata": {},
   "outputs": [],
   "source": [
    "Conditional Statement :\n",
    "Conditional Statement in Python perform different computations or actions depending on\n",
    "whether a specific Boolean constraint evaluates to true or false. \n",
    "Conditional statements are handled by IF statements in Python."
   ]
  },
  {
   "cell_type": "code",
   "execution_count": null,
   "metadata": {},
   "outputs": [],
   "source": [
    "Structure of conditional statement:\n",
    "    \n",
    "Syntax:\n",
    "If (c)\n",
    "{\n",
    "    Statement 1\n",
    "    ….\n",
    "    3\n",
    "    body……………..\n",
    "}\n",
    "Statement 4 = Seq\n",
    "if (Condition): ? define a block of statement\n",
    "    S1\n",
    "    S2\n",
    "S3"
   ]
  },
  {
   "cell_type": "code",
   "execution_count": 3,
   "metadata": {},
   "outputs": [
    {
     "name": "stdout",
     "output_type": "stream",
     "text": [
      "Enter a number : 5\n",
      "The number is odd\n"
     ]
    }
   ],
   "source": [
    "#problem_1\n",
    "\n",
    "num = int(input(\"Enter a number : \"))\n",
    "if num % 2 == 0 :\n",
    "    print(\"The number is even\")\n",
    "else :\n",
    "    print(\"The number is odd\")"
   ]
  },
  {
   "cell_type": "code",
   "execution_count": 6,
   "metadata": {},
   "outputs": [
    {
     "name": "stdout",
     "output_type": "stream",
     "text": [
      "Enter a number : 170\n",
      "The number is out of condition\n"
     ]
    }
   ],
   "source": [
    "#problem_2;Part_1\n",
    "\n",
    "a = int(input(\"Enter a number : \"))\n",
    "\n",
    "if a>=100 and a<200 :\n",
    "    if a%9 == 0 :\n",
    "        print(\"The number which i search\")\n",
    "    else :\n",
    "        print(\"The number is out of conditions\")\n",
    "else :\n",
    "    print(\"The number is out of boundary\")"
   ]
  },
  {
   "cell_type": "code",
   "execution_count": 16,
   "metadata": {},
   "outputs": [
    {
     "name": "stdout",
     "output_type": "stream",
     "text": [
      "Enter a number 12\n",
      "The number is out of boundary\n"
     ]
    }
   ],
   "source": [
    "#problem_2;Part_2\n",
    "\n",
    "a = int(input(\"Enter a number \"))\n",
    "\n",
    "if a>=100 and a<=500 :\n",
    "    if a % 7 ==0 and a % 5 == 0 :\n",
    "        print(\"The number which i search\")\n",
    "    else :\n",
    "        print(\"The number is out of conditions\")\n",
    "else :\n",
    "    print(\"The number is out of boundary\")\n",
    "        "
   ]
  },
  {
   "cell_type": "code",
   "execution_count": 15,
   "metadata": {},
   "outputs": [
    {
     "name": "stdout",
     "output_type": "stream",
     "text": [
      "Enter year 2001\n",
      "This is not leap year\n"
     ]
    }
   ],
   "source": [
    "#problem_3\n",
    "\n",
    "year = int(input(\"Enter year \"))\n",
    "\n",
    "if year % 100 != 0 and year % 4 == 0 :\n",
    "    print(\"The year is leap year\")\n",
    "elif year % 100 == 0 and year % 400 == 0 :\n",
    "    print(\"The year is leap year\")\n",
    "else :\n",
    "    print(\"This is not leap year\")"
   ]
  },
  {
   "cell_type": "code",
   "execution_count": null,
   "metadata": {},
   "outputs": [],
   "source": [
    "#problem_4\n",
    "\n"
   ]
  },
  {
   "cell_type": "code",
   "execution_count": 19,
   "metadata": {},
   "outputs": [
    {
     "name": "stdout",
     "output_type": "stream",
     "text": [
      "Enter Number 0\n",
      "Zero\n"
     ]
    }
   ],
   "source": [
    "#problem_5\n",
    "\n",
    "num = int(input(\"Enter Number \"))\n",
    "\n",
    "if num > 0 :\n",
    "    print(\"Positive\")\n",
    "elif num < 0 :\n",
    "    print(\"Negative\")\n",
    "else :\n",
    "    print(\"Zero\")"
   ]
  },
  {
   "cell_type": "code",
   "execution_count": 22,
   "metadata": {},
   "outputs": [
    {
     "name": "stdout",
     "output_type": "stream",
     "text": [
      "Enter length 5\n",
      "Enter breadth 4\n",
      "Not Square\n"
     ]
    }
   ],
   "source": [
    "#problem_6\n",
    "\n",
    "len = int(input(\"Enter length \"))\n",
    "bdth = int(input(\"Enter breadth \"))\n",
    "\n",
    "if len == bdth :\n",
    "    print(\"This is square shape\")\n",
    "else :\n",
    "    print(\"Not Square\")"
   ]
  },
  {
   "cell_type": "code",
   "execution_count": 23,
   "metadata": {},
   "outputs": [
    {
     "name": "stdout",
     "output_type": "stream",
     "text": [
      "Enter first value 5\n",
      "Enter second value 7\n",
      "Enter third value 3\n",
      "7 is the largest number among them\n"
     ]
    }
   ],
   "source": [
    "#problem_7\n",
    "\n",
    "n1 = int(input(\"Enter first value \"))\n",
    "n2 = int(input(\"Enter second value \"))\n",
    "n3 = int(input(\"Enter third value \"))\n",
    "\n",
    "if n1 > n2 :\n",
    "    if n1 > n3 :\n",
    "        print(n1,\"is the largest number among them\")\n",
    "    else :\n",
    "        print(n3,\"is the largest number among them\")\n",
    "elif n2 > n3 :\n",
    "    print(n2,\"is the largest number among them\")\n",
    "else :\n",
    "    print(n3,\"is the largest number among them\")\n",
    "    \n",
    "    \n",
    "    "
   ]
  },
  {
   "cell_type": "code",
   "execution_count": 42,
   "metadata": {},
   "outputs": [
    {
     "name": "stdout",
     "output_type": "stream",
     "text": [
      "Enter your marks 85\n",
      "Your grade is A+\n"
     ]
    }
   ],
   "source": [
    "#problem_8\n",
    "\n",
    "mark = int(input(\"Enter your marks \"))\n",
    "\n",
    "if mark >= 80 and mark <= 100 :\n",
    "    print(\"Your grade is A+\")\n",
    "elif mark >=75 and mark <= 79 :\n",
    "    print(\"Your grade is A\")\n",
    "elif mark >=70 and mark <= 74 :\n",
    "    print(\"Your grade is A-\")\n",
    "elif mark >=65 and mark <= 69 :\n",
    "    print(\"Your grade is B+\")\n",
    "elif mark >=60 and mark <= 64 :\n",
    "    print(\"Your grade is B\")\n",
    "elif mark >=55 and mark <= 59 :\n",
    "    print(\"Your grade is B-\")\n",
    "elif mark >=50 and mark <= 54 :\n",
    "    print(\"Your grade is C+\")\n",
    "elif mark >=45 and mark <= 49 :\n",
    "    print(\"Your grade is C\")\n",
    "elif mark >=40 and mark <= 44 :\n",
    "     print(\"Your grade is D\")\n",
    "elif mark >=0 and mark <= 39 :\n",
    "    print(\"Your grade is F\")\n",
    "else :\n",
    "    print(\"Please Enter a valid number\")\n",
    "    \n",
    "    "
   ]
  },
  {
   "cell_type": "code",
   "execution_count": null,
   "metadata": {},
   "outputs": [],
   "source": []
  }
 ],
 "metadata": {
  "kernelspec": {
   "display_name": "Python 3",
   "language": "python",
   "name": "python3"
  },
  "language_info": {
   "codemirror_mode": {
    "name": "ipython",
    "version": 3
   },
   "file_extension": ".py",
   "mimetype": "text/x-python",
   "name": "python",
   "nbconvert_exporter": "python",
   "pygments_lexer": "ipython3",
   "version": "3.8.5"
  }
 },
 "nbformat": 4,
 "nbformat_minor": 4
}
